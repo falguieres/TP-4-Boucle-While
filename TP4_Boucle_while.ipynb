{
 "cells": [
  {
   "cell_type": "markdown",
   "metadata": {},
   "source": [
    "# TP 4 : La boucle non bornée *while*\n",
    "\n",
    "\n",
    "## 1- La boucle *while*\n",
    "Exécuter le script suivant :"
   ]
  },
  {
   "cell_type": "code",
   "execution_count": null,
   "metadata": {},
   "outputs": [],
   "source": [
    "i=0\n",
    "print(i)\n",
    "while i<5:\n",
    "    i=i+1\n",
    "    print(i)"
   ]
  },
  {
   "attachments": {
    "TP4_image%201.png": {
     "image/png": "[encoded data removed]"
    }
   },
   "cell_type": "markdown",
   "metadata": {},
   "source": [
    "* Les lignes 3 et 4 sont **indentées**, elles appartiennent au corps da la boucle *while*. La ligne 5 qui n'est plus indentée marque la sortie de la boucle *while*.\n",
    "* Les lignes 3 et 4 sont répétées tant que la condition $i<5$ est vraie.\n",
    "* La condition $i<5$ devient fausse lorsque $i\\ge5$. Donc les lignes 3 et 4 ne sont plus exécutées dès que $i$ prend la valeur 5 ou plus.\n",
    "* Voici un tableau de valeurs qui explique le contenu des variables $i$ de type *int* et $i<10$ de type *bool*. La dernière colonne intitulée Sortie, contient ce qui est affiché à l'écran grâce au *print()*.\n",
    "\n",
    "![TP4_image%201.png](attachment:TP4_image%201.png)"
   ]
  },
  {
   "cell_type": "markdown",
   "metadata": {},
   "source": [
    "## 2- A vous de jouer !"
   ]
  },
  {
   "cell_type": "markdown",
   "metadata": {},
   "source": [
    "<span style='color:blue'>**Exercice 1 :**</span>\n",
    "\n",
    "En 2 020, Carole verse sur son livret d'épargne 3 000 € à un taux de 3 % : chaque année, la somme disponible augment de 3 %.\n",
    "\n",
    "1) Par combien la somme disponible est-elle multipliée chaque année ?\n"
   ]
  },
  {
   "cell_type": "markdown",
   "metadata": {},
   "source": [
    "2) Voici le programme permettant d'afficher l'année à partir de laquelle Carole disposera d'au moins 3 500 €."
   ]
  },
  {
   "cell_type": "code",
   "execution_count": null,
   "metadata": {},
   "outputs": [],
   "source": [
    "def Capital():\n",
    "    S=3000\n",
    "    A=2014\n",
    "    while S<3500:\n",
    "        S=1.03*S\n",
    "        A=A+1\n",
    "    return A"
   ]
  },
  {
   "cell_type": "markdown",
   "metadata": {},
   "source": [
    "a. Quelle variable contient les valeurs successives de l'épargne disponible ?"
   ]
  },
  {
   "cell_type": "markdown",
   "metadata": {},
   "source": [
    "b. Quel est le rôle de la variable A ?"
   ]
  },
  {
   "cell_type": "markdown",
   "metadata": {},
   "source": [
    "c. Expliquer l'instruction \"while S<3500\"."
   ]
  },
  {
   "cell_type": "markdown",
   "metadata": {},
   "source": [
    "3) Répondre au problème posé à l'aide de ce programme."
   ]
  },
  {
   "cell_type": "markdown",
   "metadata": {},
   "source": [
    "<span style='color:blue'>**Exercice 2 :**</span>\n",
    "\n",
    "En 2 016, les rejets polluants d'un groupe industriel étaient évalués à 5 000 tonnes.\n",
    "\n",
    "Le groupe est contraint de réduire ses rejets polluants de 8 % chaque année jusqu'à ce que ceux-ci ne dépassent pas 2 000 tonnes annuelles. \n",
    "\n",
    "On suppose que le groupe respecte ce plan de réduction.\n",
    "\n",
    "1) Par quel nombre la quantité de rejets polluants est-elle multipliée chaque année ?\n"
   ]
  },
  {
   "cell_type": "markdown",
   "metadata": {},
   "source": [
    "2) La fonction polluants, programmée ci-dessous en langage Python, a pour arguments la quantité annuelle r de polluants rejetés (en tonnes) et l'année n correspondant à ces rejets polluants.   \n",
    "   Compléter ce programme afin que la fonction polluants retourne en quelle année le groupe industriel atteindra pour la première fois son objectif, puis le tester pour connaître cette année."
   ]
  },
  {
   "cell_type": "code",
   "execution_count": null,
   "metadata": {},
   "outputs": [],
   "source": [
    "def polluants() :\n",
    "    r=........\n",
    "    n=2016\n",
    "    while .............. :\n",
    "        r = ............\n",
    "        n = ............\n",
    "    return n"
   ]
  },
  {
   "cell_type": "code",
   "execution_count": null,
   "metadata": {},
   "outputs": [],
   "source": []
  },
  {
   "cell_type": "markdown",
   "metadata": {},
   "source": [
    "<span style='color:blue'>**Exercice 3 :**</span>\n",
    "\n",
    "Compléter le script suivant pour qu'il renvoie le plus petit entier naturel $n$ tel que $2^{n}$>100, puis le tester.  \n",
    "Contrôler le résultat."
   ]
  },
  {
   "cell_type": "code",
   "execution_count": null,
   "metadata": {},
   "outputs": [],
   "source": [
    "def puiss():\n",
    "    n=1\n",
    "    P=2\n",
    "    while .......:\n",
    "        P=2*P\n",
    "        n=......\n",
    "    retur n"
   ]
  },
  {
   "cell_type": "code",
   "execution_count": null,
   "metadata": {},
   "outputs": [],
   "source": []
  }
 ],
 "metadata": {
  "kernelspec": {
   "display_name": "Python 3",
   "language": "python",
   "name": "python3"
  },
  "language_info": {
   "codemirror_mode": {
    "name": "ipython",
    "version": 3
   },
   "file_extension": ".py",
   "mimetype": "text/x-python",
   "name": "python",
   "nbconvert_exporter": "python",
   "pygments_lexer": "ipython3",
   "version": "3.7.3"
  }
 },
 "nbformat": 4,
 "nbformat_minor": 4
}
